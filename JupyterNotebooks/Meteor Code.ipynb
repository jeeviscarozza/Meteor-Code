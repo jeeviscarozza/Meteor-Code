{
 "cells": [
  {
   "cell_type": "code",
   "execution_count": 1,
   "id": "f6803460",
   "metadata": {},
   "outputs": [],
   "source": [
    "import MeteorCode as mc"
   ]
  },
  {
   "cell_type": "code",
   "execution_count": 2,
   "id": "c3d5e01e",
   "metadata": {},
   "outputs": [
    {
     "data": {
      "text/plain": [
       "7"
      ]
     },
     "execution_count": 2,
     "metadata": {},
     "output_type": "execute_result"
    }
   ],
   "source": [
    "mc.my_constant"
   ]
  },
  {
   "cell_type": "code",
   "execution_count": 3,
   "id": "3595fdd2",
   "metadata": {},
   "outputs": [
    {
     "name": "stdout",
     "output_type": "stream",
     "text": [
      "Hello World\n"
     ]
    }
   ],
   "source": [
    "mc.g(1)"
   ]
  },
  {
   "cell_type": "code",
   "execution_count": null,
   "id": "dd4d08d5",
   "metadata": {},
   "outputs": [],
   "source": []
  }
 ],
 "metadata": {
  "kernelspec": {
   "display_name": "Python 3 (ipykernel)",
   "language": "python",
   "name": "python3"
  },
  "language_info": {
   "codemirror_mode": {
    "name": "ipython",
    "version": 3
   },
   "file_extension": ".py",
   "mimetype": "text/x-python",
   "name": "python",
   "nbconvert_exporter": "python",
   "pygments_lexer": "ipython3",
   "version": "3.10.4"
  }
 },
 "nbformat": 4,
 "nbformat_minor": 5
}
